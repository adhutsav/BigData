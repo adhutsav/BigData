{
 "cells": [
  {
   "cell_type": "code",
   "execution_count": 6,
   "id": "44fb7fc9",
   "metadata": {},
   "outputs": [],
   "source": [
    "from pyspark.ml.evaluation import RegressionEvaluator\n",
    "from pyspark.ml.recommendation import ALS\n",
    "from pyspark.sql import Row\n",
    "from pyspark.sql import SparkSession\n",
    "from pyspark.sql.types import StructType, StructField, StringType, FloatType, LongType, IntegerType"
   ]
  },
  {
   "cell_type": "code",
   "execution_count": 3,
   "id": "56667a13",
   "metadata": {},
   "outputs": [],
   "source": [
    "spark = SparkSession.builder.appName(\"MovieRecommendation\").getOrCreate()\n",
    "MovieSchema = StructType([ \\\n",
    "                     StructField(\"userId\", IntegerType(), True), \\\n",
    "                         StructField(\"movieId\", IntegerType(), True), \\\n",
    "                          StructField(\"rating\", FloatType(), True), \\\n",
    "                             StructField(\"timestamp\", LongType(), True)])\n"
   ]
  },
  {
   "cell_type": "code",
   "execution_count": null,
   "id": "3a5d1363",
   "metadata": {},
   "outputs": [],
   "source": [
    "lines = spark.read.text('./ratings.dat').rdd\n",
    "parts = lines.map(lambda row : row.value.split(\"::\"))\n",
    "ratingsRDD = parts.map(lambda p : Row)"
   ]
  }
 ],
 "metadata": {
  "kernelspec": {
   "display_name": "Python 3",
   "language": "python",
   "name": "python3"
  },
  "language_info": {
   "codemirror_mode": {
    "name": "ipython",
    "version": 3
   },
   "file_extension": ".py",
   "mimetype": "text/x-python",
   "name": "python",
   "nbconvert_exporter": "python",
   "pygments_lexer": "ipython3",
   "version": "3.8.8"
  }
 },
 "nbformat": 4,
 "nbformat_minor": 5
}
